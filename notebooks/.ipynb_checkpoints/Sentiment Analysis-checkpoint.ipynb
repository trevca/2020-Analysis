{
 "cells": [
  {
   "cell_type": "markdown",
   "metadata": {
    "id": "dfNCxE2tW1Lb"
   },
   "source": [
    "Let's train a model for predicting IMDb Reviews and see how it does on our tweets (which have been self classified). If it does well, I would rather use this since it has been verified by more users."
   ]
  },
  {
   "cell_type": "code",
   "execution_count": 1,
   "metadata": {
    "executionInfo": {
     "elapsed": 15437,
     "status": "ok",
     "timestamp": 1615160881336,
     "user": {
      "displayName": "Trevor Carpenter",
      "photoUrl": "",
      "userId": "12874851164671774514"
     },
     "user_tz": 480
    },
    "id": "pMypqfYwXFp-"
   },
   "outputs": [],
   "source": [
    "from tensorflow.keras.models import *\n",
    "from tensorflow.keras.layers import *\n",
    "from tensorflow.keras.callbacks import *\n",
    "import pandas as pd\n",
    "import numpy as np\n",
    "import tensorflow.keras\n",
    "from tensorflow.keras.preprocessing.text import Tokenizer\n",
    "from tensorflow.keras.preprocessing.sequence import pad_sequences\n",
    "\n",
    "\n"
   ]
  },
  {
   "cell_type": "code",
   "execution_count": 2,
   "metadata": {},
   "outputs": [],
   "source": [
    "#reading csv files\n",
    "train = pd.read_csv('~/Downloads/drive-download-20210309T002106Z-001/Train.csv')\n",
    "valid = pd.read_csv('~/Downloads/drive-download-20210309T002106Z-001/Test.csv')             \n",
    "\n",
    "#train_test split\n",
    "x_tr, y_tr = train['text'].values, train['label'].values\n",
    "x_val, y_val = valid['text'].values, valid['label'].values\n",
    "\n",
    "\n",
    "#Tokenize the sentences\n",
    "tokenizer = Tokenizer()\n",
    "\n",
    "#preparing vocabulary\n",
    "tokenizer.fit_on_texts(list(x_tr))\n",
    "\n",
    "#converting text into integer sequences\n",
    "x_tr_seq  = tokenizer.texts_to_sequences(x_tr) \n",
    "x_val_seq = tokenizer.texts_to_sequences(x_val)\n",
    "\n",
    "#padding to prepare sequences of same length\n",
    "x_tr_seq  = pad_sequences(x_tr_seq, maxlen=100)\n",
    "x_val_seq = pad_sequences(x_val_seq, maxlen=100)"
   ]
  },
  {
   "cell_type": "code",
   "execution_count": 3,
   "metadata": {
    "colab": {
     "base_uri": "https://localhost:8080/"
    },
    "executionInfo": {
     "elapsed": 139445,
     "status": "ok",
     "timestamp": 1615153622107,
     "user": {
      "displayName": "Trevor Carpenter",
      "photoUrl": "",
      "userId": "12874851164671774514"
     },
     "user_tz": 480
    },
    "id": "4Z3XIf5lhzvC",
    "outputId": "f66ebcd7-7fde-496c-b116-2ae618b8637a"
   },
   "outputs": [],
   "source": [
    "# embeddings_index = dict()\n",
    "# f = open('/content/drive/MyDrive/UHP 195/crawl-300d-2M-subword.vec')\n",
    "# for line in f:\n",
    "#     values = line.split()\n",
    "#     word = values[0]\n",
    "#     coefs = np.asarray(values[1:], dtype='float32')\n",
    "#     embeddings_index[word] = coefs\n",
    "\n",
    "# f.close()\n",
    "# print('Loaded %s word vectors.' % len(embeddings_index))"
   ]
  },
  {
   "cell_type": "code",
   "execution_count": 4,
   "metadata": {
    "colab": {
     "base_uri": "https://localhost:8080/"
    },
    "executionInfo": {
     "elapsed": 740,
     "status": "ok",
     "timestamp": 1615153737604,
     "user": {
      "displayName": "Trevor Carpenter",
      "photoUrl": "",
      "userId": "12874851164671774514"
     },
     "user_tz": 480
    },
    "id": "SQi_SrhGiW0U",
    "outputId": "3730cc79-2994-4aa0-a52f-29e3bdafaa5f"
   },
   "outputs": [],
   "source": [
    "\n",
    "#embedding layer\n",
    "size_of_vocabulary=len(tokenizer.word_index) + 1 \n",
    "embedding_matrix = np.zeros((size_of_vocabulary, 300))\n",
    "\n",
    "# none_vals = 0\n",
    "# for word, i in tokenizer.word_index.items():\n",
    "#     embedding_vector = embeddings_index.get(word)\n",
    "#     if embedding_vector is not None:\n",
    "#         embedding_matrix[i] = embedding_vector\n",
    "#     else:\n",
    "#         none_vals+=1\n",
    "# print(none_vals/size_of_vocabulary)"
   ]
  },
  {
   "cell_type": "code",
   "execution_count": 5,
   "metadata": {
    "colab": {
     "base_uri": "https://localhost:8080/"
    },
    "executionInfo": {
     "elapsed": 1464,
     "status": "ok",
     "timestamp": 1615153746349,
     "user": {
      "displayName": "Trevor Carpenter",
      "photoUrl": "",
      "userId": "12874851164671774514"
     },
     "user_tz": 480
    },
    "id": "xuHDCVqbiydz",
    "outputId": "2c2196ee-f9d0-4657-8964-4054749c0936"
   },
   "outputs": [
    {
     "name": "stdout",
     "output_type": "stream",
     "text": [
      "Model: \"sequential\"\n",
      "_________________________________________________________________\n",
      "Layer (type)                 Output Shape              Param #   \n",
      "=================================================================\n",
      "embedding (Embedding)        (None, 100, 300)          33661200  \n",
      "_________________________________________________________________\n",
      "lstm (LSTM)                  (None, 100, 128)          219648    \n",
      "_________________________________________________________________\n",
      "global_max_pooling1d (Global (None, 128)               0         \n",
      "_________________________________________________________________\n",
      "dense (Dense)                (None, 64)                8256      \n",
      "_________________________________________________________________\n",
      "dense_1 (Dense)              (None, 1)                 65        \n",
      "=================================================================\n",
      "Total params: 33,889,169\n",
      "Trainable params: 227,969\n",
      "Non-trainable params: 33,661,200\n",
      "_________________________________________________________________\n",
      "None\n"
     ]
    }
   ],
   "source": [
    "\n",
    "model=Sequential()\n",
    "\n",
    "model.add(Embedding(size_of_vocabulary,300,weights=[embedding_matrix],input_length=100,trainable=False)) \n",
    "\n",
    "#lstm layer\n",
    "model.add(LSTM(128,return_sequences=True,dropout=0.2))\n",
    "\n",
    "#Global Maxpooling\n",
    "model.add(GlobalMaxPooling1D())\n",
    "\n",
    "#Dense Layer\n",
    "model.add(Dense(64,activation='relu')) \n",
    "model.add(Dense(1,activation='sigmoid')) \n",
    "\n",
    "#Add loss function, metrics, optimizer\n",
    "model.compile(optimizer='adam', loss='binary_crossentropy',metrics=[\"acc\"]) \n",
    "\n",
    "#Adding callbacks\n",
    "es = EarlyStopping(monitor='val_loss', mode='min', verbose=1,patience=3)  \n",
    "mc=ModelCheckpoint('/content/drive/MyDrive/UHP 195/best_model.h5', monitor='val_acc', mode='max', save_best_only=True,verbose=1)  \n",
    "\n",
    "#Print summary of model\n",
    "print(model.summary())"
   ]
  },
  {
   "cell_type": "code",
   "execution_count": 6,
   "metadata": {
    "colab": {
     "base_uri": "https://localhost:8080/"
    },
    "executionInfo": {
     "elapsed": 816954,
     "status": "ok",
     "timestamp": 1615154575936,
     "user": {
      "displayName": "Trevor Carpenter",
      "photoUrl": "",
      "userId": "12874851164671774514"
     },
     "user_tz": 480
    },
    "id": "EVc-uXU5X_vG",
    "outputId": "9c732edb-45c7-41ec-8556-2b64e5dde632"
   },
   "outputs": [],
   "source": [
    "# history = model.fit(np.array(x_tr_seq),np.array(y_tr),batch_size=128,epochs=10,validation_data=(np.array(x_val_seq),np.array(y_val)),verbose=1,callbacks=[es,mc])"
   ]
  },
  {
   "cell_type": "code",
   "execution_count": 7,
   "metadata": {
    "executionInfo": {
     "elapsed": 1490,
     "status": "ok",
     "timestamp": 1615164230975,
     "user": {
      "displayName": "Trevor Carpenter",
      "photoUrl": "",
      "userId": "12874851164671774514"
     },
     "user_tz": 480
    },
    "id": "xQbI5NGYFlhs"
   },
   "outputs": [],
   "source": [
    "model.load_weights('../models/SentimentModel.h5')"
   ]
  },
  {
   "cell_type": "code",
   "execution_count": 8,
   "metadata": {
    "colab": {
     "base_uri": "https://localhost:8080/"
    },
    "executionInfo": {
     "elapsed": 37492,
     "status": "ok",
     "timestamp": 1615161319561,
     "user": {
      "displayName": "Trevor Carpenter",
      "photoUrl": "",
      "userId": "12874851164671774514"
     },
     "user_tz": 480
    },
    "id": "4DYSkYspbkjb",
    "outputId": "491494cc-91f4-450f-aacf-76d8960fb9fc"
   },
   "outputs": [],
   "source": [
    "trump_tweets = pd.read_csv(\"../data/Global_Control_Tweets.csv\")"
   ]
  },
  {
   "cell_type": "code",
   "execution_count": 9,
   "metadata": {
    "executionInfo": {
     "elapsed": 1276,
     "status": "ok",
     "timestamp": 1615161433884,
     "user": {
      "displayName": "Trevor Carpenter",
      "photoUrl": "",
      "userId": "12874851164671774514"
     },
     "user_tz": 480
    },
    "id": "mklqXSD2_zpZ"
   },
   "outputs": [],
   "source": [
    "en_only = trump_tweets[trump_tweets['language'] == 'en']"
   ]
  },
  {
   "cell_type": "code",
   "execution_count": 10,
   "metadata": {
    "executionInfo": {
     "elapsed": 344,
     "status": "ok",
     "timestamp": 1615161466311,
     "user": {
      "displayName": "Trevor Carpenter",
      "photoUrl": "",
      "userId": "12874851164671774514"
     },
     "user_tz": 480
    },
    "id": "xzlskTiZAV7T"
   },
   "outputs": [],
   "source": [
    "# import matplotlib.pyplot as plt\n"
   ]
  },
  {
   "cell_type": "code",
   "execution_count": 11,
   "metadata": {
    "executionInfo": {
     "elapsed": 955,
     "status": "ok",
     "timestamp": 1615161461586,
     "user": {
      "displayName": "Trevor Carpenter",
      "photoUrl": "",
      "userId": "12874851164671774514"
     },
     "user_tz": 480
    },
    "id": "89McDwZPAi6p"
   },
   "outputs": [],
   "source": [
    "# times = en_only[en_only['date'] == '2020-11-03']['time']"
   ]
  },
  {
   "cell_type": "code",
   "execution_count": 12,
   "metadata": {
    "colab": {
     "base_uri": "https://localhost:8080/"
    },
    "executionInfo": {
     "elapsed": 288,
     "status": "ok",
     "timestamp": 1615162495825,
     "user": {
      "displayName": "Trevor Carpenter",
      "photoUrl": "",
      "userId": "12874851164671774514"
     },
     "user_tz": 480
    },
    "id": "pWFqvq9DLvrT",
    "outputId": "84216a79-6661-4c4c-c101-b282f3c53b4f"
   },
   "outputs": [],
   "source": [
    "# times"
   ]
  },
  {
   "cell_type": "code",
   "execution_count": 13,
   "metadata": {
    "executionInfo": {
     "elapsed": 683,
     "status": "ok",
     "timestamp": 1615161705021,
     "user": {
      "displayName": "Trevor Carpenter",
      "photoUrl": "",
      "userId": "12874851164671774514"
     },
     "user_tz": 480
    },
    "id": "UWIxmfYfAMLg"
   },
   "outputs": [],
   "source": [
    "# from collections import Counter\n",
    "# time_count = Counter(times)"
   ]
  },
  {
   "cell_type": "code",
   "execution_count": 14,
   "metadata": {
    "colab": {
     "base_uri": "https://localhost:8080/"
    },
    "executionInfo": {
     "elapsed": 4037,
     "status": "ok",
     "timestamp": 1615163709018,
     "user": {
      "displayName": "Trevor Carpenter",
      "photoUrl": "",
      "userId": "12874851164671774514"
     },
     "user_tz": 480
    },
    "id": "Xc1uLu-yQNOh",
    "outputId": "c6771df3-847d-4c4b-accd-df8eb84e871d"
   },
   "outputs": [],
   "source": [
    "# for row in en_only.iterrows():\n",
    "#     print(row)\n",
    "#     break"
   ]
  },
  {
   "cell_type": "code",
   "execution_count": 15,
   "metadata": {
    "executionInfo": {
     "elapsed": 634,
     "status": "ok",
     "timestamp": 1615162190830,
     "user": {
      "displayName": "Trevor Carpenter",
      "photoUrl": "",
      "userId": "12874851164671774514"
     },
     "user_tz": 480
    },
    "id": "v8ACLkYwI9XA"
   },
   "outputs": [],
   "source": [
    "# new_map = {}\n",
    "# for time in time_count:\n",
    "#     minute = int(time[:2])*60 + time[3:5]\n",
    "#     if minute not in new_map:\n",
    "#         new_map[minute] = time_count[time]\n",
    "#     else:\n",
    "#         new_map[minute] += time_count[time]\n",
    "\n",
    "# x = []\n",
    "# y = []\n",
    "# for key in new_map:\n",
    "#     x.append(key)\n",
    "#     y.append(new_map[key])"
   ]
  },
  {
   "cell_type": "code",
   "execution_count": 16,
   "metadata": {
    "colab": {
     "base_uri": "https://localhost:8080/",
     "height": 35
    },
    "executionInfo": {
     "elapsed": 386,
     "status": "ok",
     "timestamp": 1615163508979,
     "user": {
      "displayName": "Trevor Carpenter",
      "photoUrl": "",
      "userId": "12874851164671774514"
     },
     "user_tz": 480
    },
    "id": "fZyGBrzxPwfN",
    "outputId": "69a7edfa-9258-473e-9f8a-932311c98f56"
   },
   "outputs": [],
   "source": [
    "# en_only['date'][2]"
   ]
  },
  {
   "cell_type": "code",
   "execution_count": 17,
   "metadata": {
    "colab": {
     "base_uri": "https://localhost:8080/"
    },
    "executionInfo": {
     "elapsed": 1077,
     "status": "ok",
     "timestamp": 1615163515187,
     "user": {
      "displayName": "Trevor Carpenter",
      "photoUrl": "",
      "userId": "12874851164671774514"
     },
     "user_tz": 480
    },
    "id": "gTylmNTPMKkZ",
    "outputId": "45ffe184-76b4-4a78-8628-a0018cc3818a"
   },
   "outputs": [],
   "source": [
    "# import datetime\n",
    "# date_time_str = en_only['date'][2] + ' ' + en_only['time'][2]\n",
    "# date_time_obj = datetime.datetime.strptime(date_time_str, '%Y-%m-%d %H:%M:%S')\n",
    "# date_time_obj"
   ]
  },
  {
   "cell_type": "code",
   "execution_count": 18,
   "metadata": {
    "colab": {
     "base_uri": "https://localhost:8080/",
     "height": 282
    },
    "executionInfo": {
     "elapsed": 616,
     "status": "ok",
     "timestamp": 1615162199845,
     "user": {
      "displayName": "Trevor Carpenter",
      "photoUrl": "",
      "userId": "12874851164671774514"
     },
     "user_tz": 480
    },
    "id": "HnDP95MGJ4yl",
    "outputId": "13e95e76-f6a0-4f61-abe2-45ed27fab0da"
   },
   "outputs": [],
   "source": [
    "# plt.plot(x,y)"
   ]
  },
  {
   "cell_type": "code",
   "execution_count": 19,
   "metadata": {
    "colab": {
     "base_uri": "https://localhost:8080/"
    },
    "executionInfo": {
     "elapsed": 21255,
     "status": "ok",
     "timestamp": 1615159298296,
     "user": {
      "displayName": "Trevor Carpenter",
      "photoUrl": "",
      "userId": "12874851164671774514"
     },
     "user_tz": 480
    },
    "id": "wcXm3WKQuNPI",
    "outputId": "8125b546-7489-46c6-f907-c9f407918199"
   },
   "outputs": [],
   "source": [
    "# trump_tweets['tweet'].values.astype(str)"
   ]
  },
  {
   "cell_type": "code",
   "execution_count": 20,
   "metadata": {
    "colab": {
     "base_uri": "https://localhost:8080/",
     "height": 932
    },
    "executionInfo": {
     "elapsed": 897,
     "status": "ok",
     "timestamp": 1615164443751,
     "user": {
      "displayName": "Trevor Carpenter",
      "photoUrl": "",
      "userId": "12874851164671774514"
     },
     "user_tz": 480
    },
    "id": "ZL8JSkx9TXVi",
    "outputId": "49b09f12-0b7c-4150-8df8-bd8a38107813"
   },
   "outputs": [],
   "source": [
    "# en_only"
   ]
  },
  {
   "cell_type": "code",
   "execution_count": 21,
   "metadata": {
    "executionInfo": {
     "elapsed": 127137,
     "status": "ok",
     "timestamp": 1615164424324,
     "user": {
      "displayName": "Trevor Carpenter",
      "photoUrl": "",
      "userId": "12874851164671774514"
     },
     "user_tz": 480
    },
    "id": "Z88JR0czcTMt"
   },
   "outputs": [],
   "source": [
    "t = np.array(pad_sequences(tokenizer.texts_to_sequences(en_only['tweet'].values.astype(str)), maxlen=100))"
   ]
  },
  {
   "cell_type": "code",
   "execution_count": 22,
   "metadata": {
    "colab": {
     "base_uri": "https://localhost:8080/"
    },
    "executionInfo": {
     "elapsed": 782,
     "status": "ok",
     "timestamp": 1615164425124,
     "user": {
      "displayName": "Trevor Carpenter",
      "photoUrl": "",
      "userId": "12874851164671774514"
     },
     "user_tz": 480
    },
    "id": "W3kgh21lS1xD",
    "outputId": "a6f012ad-ef35-4940-f3dd-338f7c4afdb5"
   },
   "outputs": [],
   "source": [
    "# len(t)"
   ]
  },
  {
   "cell_type": "code",
   "execution_count": null,
   "metadata": {
    "executionInfo": {
     "elapsed": 4996587,
     "status": "ok",
     "timestamp": 1615169469555,
     "user": {
      "displayName": "Trevor Carpenter",
      "photoUrl": "",
      "userId": "12874851164671774514"
     },
     "user_tz": 480
    },
    "id": "Lo_HEr1scK8w"
   },
   "outputs": [],
   "source": [
    "pred = model.predict(t)"
   ]
  },
  {
   "cell_type": "code",
   "execution_count": null,
   "metadata": {
    "colab": {
     "base_uri": "https://localhost:8080/"
    },
    "executionInfo": {
     "elapsed": 253,
     "status": "ok",
     "timestamp": 1615172753996,
     "user": {
      "displayName": "Trevor Carpenter",
      "photoUrl": "",
      "userId": "12874851164671774514"
     },
     "user_tz": 480
    },
    "id": "TSqYJnYR6soa",
    "outputId": "38f3c95e-0bd4-4f0f-9f59-adb811bfbc6d"
   },
   "outputs": [],
   "source": [
    "len(pred)"
   ]
  },
  {
   "cell_type": "code",
   "execution_count": null,
   "metadata": {
    "executionInfo": {
     "elapsed": 274,
     "status": "ok",
     "timestamp": 1615172766537,
     "user": {
      "displayName": "Trevor Carpenter",
      "photoUrl": "",
      "userId": "12874851164671774514"
     },
     "user_tz": 480
    },
    "id": "NYXJ3_p17JsR"
   },
   "outputs": [],
   "source": [
    "en_only.insert(10, 'Sentiment', pred)"
   ]
  },
  {
   "cell_type": "code",
   "execution_count": null,
   "metadata": {
    "colab": {
     "base_uri": "https://localhost:8080/",
     "height": 932
    },
    "executionInfo": {
     "elapsed": 756,
     "status": "ok",
     "timestamp": 1615172773708,
     "user": {
      "displayName": "Trevor Carpenter",
      "photoUrl": "",
      "userId": "12874851164671774514"
     },
     "user_tz": 480
    },
    "id": "DNEfSIoA7iUo",
    "outputId": "759217cc-739e-4a4f-d579-15d7aeeba13c"
   },
   "outputs": [],
   "source": [
    "en_only"
   ]
  },
  {
   "cell_type": "code",
   "execution_count": null,
   "metadata": {
    "colab": {
     "base_uri": "https://localhost:8080/",
     "height": 932
    },
    "executionInfo": {
     "elapsed": 2321,
     "status": "ok",
     "timestamp": 1615172840379,
     "user": {
      "displayName": "Trevor Carpenter",
      "photoUrl": "",
      "userId": "12874851164671774514"
     },
     "user_tz": 480
    },
    "id": "GHyS9qCR7s3-",
    "outputId": "d05323d1-767e-4ec4-a9cf-c2aba4e48128"
   },
   "outputs": [],
   "source": [
    "drop_cols = ['near', 'geo', 'source', 'user_rt', 'user_rt_id', 'retweet_id', 'retweet_date', 'translate', 'trans_src', 'trans_dest']\n",
    "new_tweets = en_only.drop(drop_cols, axis = 1)\n",
    "new_tweets"
   ]
  },
  {
   "cell_type": "code",
   "execution_count": null,
   "metadata": {
    "executionInfo": {
     "elapsed": 70991,
     "status": "ok",
     "timestamp": 1615172947432,
     "user": {
      "displayName": "Trevor Carpenter",
      "photoUrl": "",
      "userId": "12874851164671774514"
     },
     "user_tz": 480
    },
    "id": "gjZndipU-iWk"
   },
   "outputs": [],
   "source": [
    "pd.DataFrame.to_csv(new_tweets, '../data/Processed_global_control.csv')"
   ]
  }
 ],
 "metadata": {
  "accelerator": "TPU",
  "colab": {
   "authorship_tag": "ABX9TyPwxnVUzcxd0Ei4rgiSJyaq",
   "machine_shape": "hm",
   "mount_file_id": "1YLFo9_-PoDyCNN2xUw06Ul34KwYNvl2f",
   "name": "Sentiment Analysis.ipynb",
   "provenance": []
  },
  "kernelspec": {
   "display_name": "Python 3",
   "language": "python",
   "name": "python3"
  },
  "language_info": {
   "codemirror_mode": {
    "name": "ipython",
    "version": 3
   },
   "file_extension": ".py",
   "mimetype": "text/x-python",
   "name": "python",
   "nbconvert_exporter": "python",
   "pygments_lexer": "ipython3",
   "version": "3.7.9"
  }
 },
 "nbformat": 4,
 "nbformat_minor": 1
}
